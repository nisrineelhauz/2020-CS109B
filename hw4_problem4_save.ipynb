{
  "nbformat": 4,
  "nbformat_minor": 0,
  "metadata": {
    "colab": {
      "name": "hw4_problem4_save.ipynb",
      "provenance": [],
      "collapsed_sections": [],
      "include_colab_link": true
    },
    "kernelspec": {
      "name": "python3",
      "display_name": "Python 3"
    }
  },
  "cells": [
    {
      "cell_type": "markdown",
      "metadata": {
        "id": "view-in-github",
        "colab_type": "text"
      },
      "source": [
        "<a href=\"https://colab.research.google.com/github/nisrineelhauz/2020-CS109B/blob/master/hw4_problem4_save.ipynb\" target=\"_parent\"><img src=\"https://colab.research.google.com/assets/colab-badge.svg\" alt=\"Open In Colab\"/></a>"
      ]
    },
    {
      "cell_type": "code",
      "metadata": {
        "id": "v61O-ZBLJwGX",
        "colab_type": "code",
        "outputId": "e364e30c-1e4c-41ca-eb5f-df87208bac09",
        "colab": {
          "base_uri": "https://localhost:8080/",
          "height": 102
        }
      },
      "source": [
        "%tensorflow_version 2.0.0"
      ],
      "execution_count": 24,
      "outputs": [
        {
          "output_type": "stream",
          "text": [
            "`%tensorflow_version` only switches the major version: 1.x or 2.x.\n",
            "You set: `2.0.0`. This will be interpreted as: `2.x`.\n",
            "\n",
            "\n",
            "TensorFlow is already loaded. Please restart the runtime to change versions.\n"
          ],
          "name": "stdout"
        }
      ]
    },
    {
      "cell_type": "code",
      "metadata": {
        "id": "KEAIBEp43LHa",
        "colab_type": "code",
        "outputId": "a3685d36-20b7-4d42-f725-7fb3996f65f1",
        "colab": {
          "base_uri": "https://localhost:8080/",
          "height": 102
        }
      },
      "source": [
        "%tensorflow_version 2.0\n",
        "import numpy as np\n",
        "\n",
        "from PIL import Image\n",
        "\n",
        "from matplotlib import pyplot\n",
        "import matplotlib.pylab as plt \n",
        "from scipy.signal import convolve2d\n",
        "%matplotlib inline\n",
        "plt.style.use('dark_background')\n",
        "import tensorflow as tf\n",
        "\n",
        "import os"
      ],
      "execution_count": 25,
      "outputs": [
        {
          "output_type": "stream",
          "text": [
            "`%tensorflow_version` only switches the major version: 1.x or 2.x.\n",
            "You set: `2.0`. This will be interpreted as: `2.x`.\n",
            "\n",
            "\n",
            "TensorFlow is already loaded. Please restart the runtime to change versions.\n"
          ],
          "name": "stdout"
        }
      ]
    },
    {
      "cell_type": "code",
      "metadata": {
        "id": "kCS4IsOQLvev",
        "colab_type": "code",
        "outputId": "f15c736d-b8b6-4b46-cde4-cca165e522d3",
        "colab": {
          "base_uri": "https://localhost:8080/",
          "height": 34
        }
      },
      "source": [
        "#mount your own drive\n",
        "from google.colab import drive\n",
        "drive.mount('/content/gdrive')"
      ],
      "execution_count": 26,
      "outputs": [
        {
          "output_type": "stream",
          "text": [
            "Drive already mounted at /content/gdrive; to attempt to forcibly remount, call drive.mount(\"/content/gdrive\", force_remount=True).\n"
          ],
          "name": "stdout"
        }
      ]
    },
    {
      "cell_type": "code",
      "metadata": {
        "id": "yapm5-hOcvdx",
        "colab_type": "code",
        "colab": {}
      },
      "source": [
        "#Getting all pip packages\n",
        "import subprocess\n",
        "import sys\n",
        "\n",
        "reqs = subprocess.check_output([sys.executable, '-m', 'pip', 'freeze'])\n",
        "installed_packages = [r.decode().split('==') for r in reqs.split()]\n"
      ],
      "execution_count": 0,
      "outputs": []
    },
    {
      "cell_type": "code",
      "metadata": {
        "id": "sXle_CMZef2w",
        "colab_type": "code",
        "colab": {}
      },
      "source": [
        "#installing tensorflow-datasets==2.1.0\n",
        "if ['tensorflow-datasets', '2.1.0'] not in installed_packages:\n",
        "  !pip uninstall tensorflow-datasets -y\n",
        "  !pip install tensorflow-datasets "
      ],
      "execution_count": 0,
      "outputs": []
    },
    {
      "cell_type": "code",
      "metadata": {
        "id": "Ct7m0cvmdP5j",
        "colab_type": "code",
        "colab": {}
      },
      "source": [
        "#installing tensorflow-addons==0.6.0\n",
        "if ['tensorflow-addons', '0.6.0'] not in installed_packages:\n",
        "  !pip uninstall tensorflow-addons -y\n",
        "  !pip install tensorflow-addons==0.6.0\n",
        "  #Please Restart Runtime"
      ],
      "execution_count": 0,
      "outputs": []
    },
    {
      "cell_type": "code",
      "metadata": {
        "id": "Gl2AX4V8fEND",
        "colab_type": "code",
        "outputId": "5fe826bf-b8a3-43b6-cc48-1bcab23bdacd",
        "colab": {
          "base_uri": "https://localhost:8080/",
          "height": 612
        }
      },
      "source": [
        "#Following creates a directory, downloads the file and unzips it. \n",
        "if os.path.isdir('gdrive/My Drive/celeb_a/2.0.0'):\n",
        "    print('Found dataset' ) #os.listdir('gdrive/My Drive/celeb_a/2.0.0')\n",
        "else:\n",
        "    os.makedirs('gdrive/My Drive/celeb_a')\n",
        "    !wget -O gdrive/My\\ Drive/celeb_a/2.0.0.zip https://cs109b2020.s3.amazonaws.com/2.0.0.zip\n",
        "    !unzip gdrive/My\\ Drive/celeb_a/2.0.0.zip  -d gdrive/My\\ Drive/celeb_a/"
      ],
      "execution_count": 30,
      "outputs": [
        {
          "output_type": "stream",
          "text": [
            "--2020-03-17 17:00:07--  https://cs109b2020.s3.amazonaws.com/2.0.0.zip\n",
            "Resolving cs109b2020.s3.amazonaws.com (cs109b2020.s3.amazonaws.com)... 52.216.129.171\n",
            "Connecting to cs109b2020.s3.amazonaws.com (cs109b2020.s3.amazonaws.com)|52.216.129.171|:443... connected.\n",
            "HTTP request sent, awaiting response... 200 OK\n",
            "Length: 1313412631 (1.2G) [application/zip]\n",
            "Saving to: ‘gdrive/My Drive/celeb_a/2.0.0.zip’\n",
            "\n",
            "gdrive/My Drive/cel 100%[===================>]   1.22G  79.6MB/s    in 16s     \n",
            "\n",
            "2020-03-17 17:00:23 (77.3 MB/s) - ‘gdrive/My Drive/celeb_a/2.0.0.zip’ saved [1313412631/1313412631]\n",
            "\n",
            "Archive:  gdrive/My Drive/celeb_a/2.0.0.zip\n",
            "   creating: gdrive/My Drive/celeb_a/2.0.0/\n",
            "  inflating: gdrive/My Drive/celeb_a/2.0.0/celeb_a-train.tfrecord-00015-of-00016  \n",
            "  inflating: gdrive/My Drive/celeb_a/2.0.0/celeb_a-train.tfrecord-00014-of-00016  \n",
            "  inflating: gdrive/My Drive/celeb_a/2.0.0/celeb_a-train.tfrecord-00008-of-00016  \n",
            "  inflating: gdrive/My Drive/celeb_a/2.0.0/celeb_a-train.tfrecord-00009-of-00016  \n",
            "  inflating: gdrive/My Drive/celeb_a/2.0.0/celeb_a-train.tfrecord-00002-of-00016  \n",
            "  inflating: gdrive/My Drive/celeb_a/2.0.0/celeb_a-train.tfrecord-00003-of-00016  \n",
            "  inflating: gdrive/My Drive/celeb_a/2.0.0/celeb_a-train.tfrecord-00005-of-00016  \n",
            "  inflating: gdrive/My Drive/celeb_a/2.0.0/celeb_a-train.tfrecord-00004-of-00016  \n",
            "  inflating: gdrive/My Drive/celeb_a/2.0.0/celeb_a-train.tfrecord-00012-of-00016  \n",
            "  inflating: gdrive/My Drive/celeb_a/2.0.0/celeb_a-train.tfrecord-00013-of-00016  \n",
            "  inflating: gdrive/My Drive/celeb_a/2.0.0/dataset_info.json  \n",
            "  inflating: gdrive/My Drive/celeb_a/2.0.0/celeb_a-train.tfrecord-00001-of-00016  \n",
            "  inflating: gdrive/My Drive/celeb_a/2.0.0/celeb_a-train.tfrecord-00000-of-00016  \n",
            "  inflating: gdrive/My Drive/celeb_a/2.0.0/image.image.json  \n",
            "  inflating: gdrive/My Drive/celeb_a/2.0.0/celeb_a-validation.tfrecord-00001-of-00002  \n",
            "  inflating: gdrive/My Drive/celeb_a/2.0.0/celeb_a-validation.tfrecord-00000-of-00002  \n",
            "  inflating: gdrive/My Drive/celeb_a/2.0.0/celeb_a-train.tfrecord-00011-of-00016  \n",
            "  inflating: gdrive/My Drive/celeb_a/2.0.0/celeb_a-train.tfrecord-00010-of-00016  \n",
            "  inflating: gdrive/My Drive/celeb_a/2.0.0/celeb_a-train.tfrecord-00006-of-00016  \n",
            "  inflating: gdrive/My Drive/celeb_a/2.0.0/celeb_a-train.tfrecord-00007-of-00016  \n",
            "  inflating: gdrive/My Drive/celeb_a/2.0.0/celeb_a-test.tfrecord-00001-of-00002  \n",
            "  inflating: gdrive/My Drive/celeb_a/2.0.0/celeb_a-test.tfrecord-00000-of-00002  \n"
          ],
          "name": "stdout"
        }
      ]
    },
    {
      "cell_type": "code",
      "metadata": {
        "id": "TgPkAT6lz7RS",
        "colab_type": "code",
        "colab": {}
      },
      "source": [
        "import certifi\n",
        "import urllib3  # For handling https certificate verification \n",
        "import scipy.ndimage as ndimage\n",
        "import tensorflow_datasets as tfds\n",
        "import tensorflow_addons as tfa\n",
        "\n",
        "\n",
        "# This line will download the CelebA dataset. The download will only happen the first time you ever run this cell.\n",
        "train_celeb, test_celeb = tfds.load('celeb_a', split=['train', 'test'], shuffle_files=False, data_dir = 'gdrive/My Drive/', download=False)"
      ],
      "execution_count": 0,
      "outputs": []
    },
    {
      "cell_type": "code",
      "metadata": {
        "id": "qhMi9i1q3Fpe",
        "colab_type": "code",
        "colab": {}
      },
      "source": [
        "# You may use the following two functions\n",
        "def normalize_image(img):\n",
        "    return tf.cast(img, tf.float32)/255.\n",
        "\n",
        "def rot_resize(img, deg):\n",
        "    rotimg = ndimage.rotate(img, deg, reshape=False, order=3)\n",
        "    rotimg = np.clip(rotimg, 0., 1.)\n",
        "    rotimg = tf.image.resize_with_crop_or_pad(rotimg,140,120)\n",
        "    return rotimg\n",
        "\n",
        "################################################################\n",
        "# Don't manually invoke these functions; they are for Dataset \n",
        "# pipelining that is already done for you.\n",
        "################################################################\n",
        "def tf_rot_resize(img, deg):\n",
        "    \"\"\"Dataset pipe that rotates an image and resizes it to 140x120\"\"\"\n",
        "    rotimg = tfa.image.rotate(img, deg/180.*np.pi, interpolation=\"BILINEAR\")\n",
        "    rotimg = tf.image.resize_with_crop_or_pad(rotimg,140,120)\n",
        "    return rotimg\n",
        "\n",
        "def tf_random_rotate_helper(image):\n",
        "    \"\"\"Dataset pipe that normalizes image to [0.,1.] and rotates by a random\n",
        "    amount of degrees in [-60.,60.], returning an (input,target) pair consisting\n",
        "    of the rotated and resized image and the degrees it has been rotated by.\"\"\"\n",
        "    image = normalize_image(image)\n",
        "    deg = tf.random.uniform([],-60.,60.)\n",
        "    return (tf_rot_resize(image,deg), deg)  # (data, label)\n",
        "\n",
        "def tf_random_rotate_image(element):\n",
        "    \"\"\"Given an element drawn from the CelebA dataset, this returns a rotated\n",
        "    image and the amount it has been rotated by, in degrees.\"\"\"\n",
        "    image = element['image']\n",
        "    image, label = tf_random_rotate_helper(image)\n",
        "    image.set_shape((140,120,3))\n",
        "    return image, label\n",
        "################################################################"
      ],
      "execution_count": 0,
      "outputs": []
    },
    {
      "cell_type": "code",
      "metadata": {
        "id": "mt5sny0tbFGT",
        "colab_type": "code",
        "colab": {}
      },
      "source": [
        "# Pipeline for creating randomly rotated images with their target labels being \n",
        "# the amount they were rotated, in degrees.\n",
        "train_rot_ds = train_celeb.map(tf_random_rotate_image)\n",
        "test_rot_ds = test_celeb.map(tf_random_rotate_image)"
      ],
      "execution_count": 0,
      "outputs": []
    },
    {
      "cell_type": "code",
      "metadata": {
        "id": "pSPwQtHgCn_q",
        "colab_type": "code",
        "outputId": "3b298845-5a55-4039-91a4-52b663ced82f",
        "colab": {
          "base_uri": "https://localhost:8080/",
          "height": 34
        }
      },
      "source": [
        "train_rot_ds.take(4)"
      ],
      "execution_count": 46,
      "outputs": [
        {
          "output_type": "execute_result",
          "data": {
            "text/plain": [
              "<DatasetV1Adapter shapes: ((140, 120, 3), ()), types: (tf.float32, tf.float32)>"
            ]
          },
          "metadata": {
            "tags": []
          },
          "execution_count": 46
        }
      ]
    },
    {
      "cell_type": "code",
      "metadata": {
        "id": "2-T2Y_VGgakV",
        "colab_type": "code",
        "colab": {}
      },
      "source": [
        "#print(tfa.__version__, tf.__version__, tfds.__version__)"
      ],
      "execution_count": 0,
      "outputs": []
    },
    {
      "cell_type": "code",
      "metadata": {
        "id": "ylAeAVjk6HFg",
        "colab_type": "code",
        "outputId": "b5b28155-933f-468c-8f54-b16a7f23eee0",
        "colab": {
          "base_uri": "https://localhost:8080/",
          "height": 34
        }
      },
      "source": [
        "train_rot_ds"
      ],
      "execution_count": 48,
      "outputs": [
        {
          "output_type": "execute_result",
          "data": {
            "text/plain": [
              "<DatasetV1Adapter shapes: ((140, 120, 3), ()), types: (tf.float32, tf.float32)>"
            ]
          },
          "metadata": {
            "tags": []
          },
          "execution_count": 48
        }
      ]
    },
    {
      "cell_type": "code",
      "metadata": {
        "id": "vsBStYHu-pf7",
        "colab_type": "code",
        "outputId": "4824aa49-8e73-4794-b313-e0d77530f728",
        "colab": {
          "base_uri": "https://localhost:8080/",
          "height": 34
        }
      },
      "source": [
        "train_rot_ds.batch(32)"
      ],
      "execution_count": 49,
      "outputs": [
        {
          "output_type": "execute_result",
          "data": {
            "text/plain": [
              "<DatasetV1Adapter shapes: ((None, 140, 120, 3), (None,)), types: (tf.float32, tf.float32)>"
            ]
          },
          "metadata": {
            "tags": []
          },
          "execution_count": 49
        }
      ]
    },
    {
      "cell_type": "code",
      "metadata": {
        "id": "s2wcsWbxdEV1",
        "colab_type": "code",
        "outputId": "b73d81e0-c5a4-4688-bbac-bbe13447900f",
        "colab": {
          "base_uri": "https://localhost:8080/",
          "height": 34
        }
      },
      "source": [
        "!ls gdrive/My\\ Drive/celeb_a"
      ],
      "execution_count": 50,
      "outputs": [
        {
          "output_type": "stream",
          "text": [
            "2.0.0  2.0.0.zip\n"
          ],
          "name": "stdout"
        }
      ]
    },
    {
      "cell_type": "code",
      "metadata": {
        "id": "X-OyDFNPTVUO",
        "colab_type": "code",
        "outputId": "f978c313-7941-4c2e-b957-044b872e1f7d",
        "colab": {
          "base_uri": "https://localhost:8080/",
          "height": 391
        }
      },
      "source": [
        "!ls gdrive/My\\ Drive/celeb_a/2.0.0"
      ],
      "execution_count": 51,
      "outputs": [
        {
          "output_type": "stream",
          "text": [
            "celeb_a-test.tfrecord-00000-of-00002\n",
            "celeb_a-test.tfrecord-00001-of-00002\n",
            "celeb_a-train.tfrecord-00000-of-00016\n",
            "celeb_a-train.tfrecord-00001-of-00016\n",
            "celeb_a-train.tfrecord-00002-of-00016\n",
            "celeb_a-train.tfrecord-00003-of-00016\n",
            "celeb_a-train.tfrecord-00004-of-00016\n",
            "celeb_a-train.tfrecord-00005-of-00016\n",
            "celeb_a-train.tfrecord-00006-of-00016\n",
            "celeb_a-train.tfrecord-00007-of-00016\n",
            "celeb_a-train.tfrecord-00008-of-00016\n",
            "celeb_a-train.tfrecord-00009-of-00016\n",
            "celeb_a-train.tfrecord-00010-of-00016\n",
            "celeb_a-train.tfrecord-00011-of-00016\n",
            "celeb_a-train.tfrecord-00012-of-00016\n",
            "celeb_a-train.tfrecord-00013-of-00016\n",
            "celeb_a-train.tfrecord-00014-of-00016\n",
            "celeb_a-train.tfrecord-00015-of-00016\n",
            "celeb_a-validation.tfrecord-00000-of-00002\n",
            "celeb_a-validation.tfrecord-00001-of-00002\n",
            "dataset_info.json\n",
            "image.image.json\n"
          ],
          "name": "stdout"
        }
      ]
    },
    {
      "cell_type": "code",
      "metadata": {
        "id": "pPDpe9fm-Osm",
        "colab_type": "code",
        "colab": {}
      },
      "source": [
        ""
      ],
      "execution_count": 0,
      "outputs": []
    }
  ]
}